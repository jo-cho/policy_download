{
 "cells": [
  {
   "cell_type": "code",
   "execution_count": 52,
   "metadata": {
    "id": "W-2ZFqstWNlX"
   },
   "outputs": [],
   "source": [
    "import pandas as pd\n",
    "from sklearn.feature_extraction.text import TfidfVectorizer\n",
    "from sklearn.decomposition import TruncatedSVD\n",
    "import numpy as np\n",
    "import gensim\n",
    "from gensim import corpora\n",
    "\n",
    "plt.rc('font', family='Malgun Gothic')\n",
    "font_path = r\"C:/windows/fonts/malgun.ttf\""
   ]
  },
  {
   "cell_type": "code",
   "execution_count": 3,
   "metadata": {
    "id": "4xOX-jpX2EK0"
   },
   "outputs": [
    {
     "data": {
      "text/plain": [
       "'!pip install konlpy\\n!git clone https://github.com/SOMJANG/Mecab-ko-for-Google-Colab.git\\n!cd Mecab-ko-for-Google-Colab\\n!bash /content/Mecab-ko-for-Google-Colab/install_mecab-ko_on_colab_light_220429.sh\\n'"
      ]
     },
     "execution_count": 3,
     "metadata": {},
     "output_type": "execute_result"
    }
   ],
   "source": [
    "# for colab\n",
    "\"\"\"!pip install konlpy\n",
    "!git clone https://github.com/SOMJANG/Mecab-ko-for-Google-Colab.git\n",
    "!cd Mecab-ko-for-Google-Colab\n",
    "!bash /content/Mecab-ko-for-Google-Colab/install_mecab-ko_on_colab_light_220429.sh\n",
    "\"\"\""
   ]
  },
  {
   "cell_type": "code",
   "execution_count": 4,
   "metadata": {},
   "outputs": [],
   "source": [
    "from konlpy.tag import Mecab\n",
    "tagger = Mecab(dicpath=r\"C:/mecab/mecab-ko-dic\")"
   ]
  },
  {
   "cell_type": "code",
   "execution_count": 5,
   "metadata": {
    "id": "RAcOTnxsYu2A"
   },
   "outputs": [],
   "source": [
    "yymm = \"2401\"\n",
    "\n",
    "file_path = '../data/'  # 파일 경로를 지정하세요\n",
    "fn= f'epic_metadata_{yymm}.xlsx'\n",
    "\n",
    "df = pd.read_excel(file_path+fn)"
   ]
  },
  {
   "cell_type": "code",
   "execution_count": 6,
   "metadata": {
    "colab": {
     "base_uri": "https://localhost:8080/",
     "height": 310
    },
    "id": "EPPZnSbeYyo-",
    "outputId": "970c1ab7-bb1e-4986-ab8a-f949cb6988ac"
   },
   "outputs": [
    {
     "data": {
      "text/html": [
       "<div>\n",
       "<style scoped>\n",
       "    .dataframe tbody tr th:only-of-type {\n",
       "        vertical-align: middle;\n",
       "    }\n",
       "\n",
       "    .dataframe tbody tr th {\n",
       "        vertical-align: top;\n",
       "    }\n",
       "\n",
       "    .dataframe thead th {\n",
       "        text-align: right;\n",
       "    }\n",
       "</style>\n",
       "<table border=\"1\" class=\"dataframe\">\n",
       "  <thead>\n",
       "    <tr style=\"text-align: right;\">\n",
       "      <th></th>\n",
       "      <th>Unnamed: 0</th>\n",
       "      <th>자료명</th>\n",
       "      <th>발간일</th>\n",
       "      <th>발간처</th>\n",
       "      <th>요약</th>\n",
       "    </tr>\n",
       "  </thead>\n",
       "  <tbody>\n",
       "    <tr>\n",
       "      <th>0</th>\n",
       "      <td>246696</td>\n",
       "      <td>2024년 2월 물가연동국고채 종목별 연동계수</td>\n",
       "      <td>2024.01.02</td>\n",
       "      <td>기획재정부 국고국 국채과</td>\n",
       "      <td>기획재정부는 1.2.(화) 2024년 2월 물가연동국고채 종목별 연동계수를 발표하였...</td>\n",
       "    </tr>\n",
       "    <tr>\n",
       "      <th>1</th>\n",
       "      <td>246697</td>\n",
       "      <td>「2024년부터 이렇게 달라집니다」 책자 발간</td>\n",
       "      <td>2023.12.28</td>\n",
       "      <td>기획재정부 기획조정실 혁신정책담당관</td>\n",
       "      <td>기획재정부는 12.31.(일) 2024년부터 달라지는 제도와 법규사항 등을 알기 쉽...</td>\n",
       "    </tr>\n",
       "    <tr>\n",
       "      <th>2</th>\n",
       "      <td>246698</td>\n",
       "      <td>국세물납증권 56개 종목 공개매각 실시</td>\n",
       "      <td>2024.01.02</td>\n",
       "      <td>기획재정부 국고국 출자관리과</td>\n",
       "      <td>정부는 국유재산정책심의위원회에서 의결한 「2023년도 제3차 국세물납증권 매각 예정...</td>\n",
       "    </tr>\n",
       "    <tr>\n",
       "      <th>3</th>\n",
       "      <td>246699</td>\n",
       "      <td>조달청, 1월 대형사업 총 163건, 1조 8,901억 원 상당 입찰 예정</td>\n",
       "      <td>2024.01.02</td>\n",
       "      <td>조달청</td>\n",
       "      <td>조달청은 1.2.(화) ’24년 1월 한 달 동안 총 163건 1조 8,901억 원...</td>\n",
       "    </tr>\n",
       "    <tr>\n",
       "      <th>4</th>\n",
       "      <td>246700</td>\n",
       "      <td>인구감소지역 『생활인구』 시범산정 결과 공표</td>\n",
       "      <td>2024.01.01</td>\n",
       "      <td>통계청</td>\n",
       "      <td>통계청과 행정안전부은 1.1.(월) 7개의 인구감소지역에 대해 「생활인구」를 시범 ...</td>\n",
       "    </tr>\n",
       "  </tbody>\n",
       "</table>\n",
       "</div>"
      ],
      "text/plain": [
       "   Unnamed: 0                                        자료명         발간일  \\\n",
       "0      246696                  2024년 2월 물가연동국고채 종목별 연동계수  2024.01.02   \n",
       "1      246697                  「2024년부터 이렇게 달라집니다」 책자 발간  2023.12.28   \n",
       "2      246698                      국세물납증권 56개 종목 공개매각 실시  2024.01.02   \n",
       "3      246699  조달청, 1월 대형사업 총 163건, 1조 8,901억 원 상당 입찰 예정  2024.01.02   \n",
       "4      246700                   인구감소지역 『생활인구』 시범산정 결과 공표  2024.01.01   \n",
       "\n",
       "                   발간처                                                 요약  \n",
       "0        기획재정부 국고국 국채과  기획재정부는 1.2.(화) 2024년 2월 물가연동국고채 종목별 연동계수를 발표하였...  \n",
       "1  기획재정부 기획조정실 혁신정책담당관  기획재정부는 12.31.(일) 2024년부터 달라지는 제도와 법규사항 등을 알기 쉽...  \n",
       "2      기획재정부 국고국 출자관리과  정부는 국유재산정책심의위원회에서 의결한 「2023년도 제3차 국세물납증권 매각 예정...  \n",
       "3                  조달청  조달청은 1.2.(화) ’24년 1월 한 달 동안 총 163건 1조 8,901억 원...  \n",
       "4                  통계청  통계청과 행정안전부은 1.1.(월) 7개의 인구감소지역에 대해 「생활인구」를 시범 ...  "
      ]
     },
     "execution_count": 6,
     "metadata": {},
     "output_type": "execute_result"
    }
   ],
   "source": [
    "df.head()"
   ]
  },
  {
   "cell_type": "code",
   "execution_count": 7,
   "metadata": {
    "id": "uuKzfv1hetqX"
   },
   "outputs": [],
   "source": [
    "stop_words = \"안 간 붙임 참고 참조 첨부 총리 장관 겸 청 실 는 은 가 등 원 조 개 이 저 다만 하지만 그러나 중 억 년 월 화 수 목 금 토 일 것 줄 만 건 또한 아울러 그리고 전년 금년 이번 올해 내년 기획 재정부 첨부 파일 내용 발표 위원회 감독원 부\"\n",
    "stop_words = stop_words.split(\" \")"
   ]
  },
  {
   "cell_type": "code",
   "execution_count": 8,
   "metadata": {
    "id": "EhtvG_7aLkEk"
   },
   "outputs": [],
   "source": [
    "excluson = [\"기획재정부\",\"정부\",'과학기술정보통신부','과기정통부','농림축산식품부','농식품부','금융위원회','금융위','금융감독원','금감원','산업통상자원부','산업부',\n",
    "            '환경부','해양수산부','해수부','공정거래위원회','공정위','식약처','식품의약품안전처','고용노동부','고용부','국토교통부','국토부','중소벤처기업부','중기부',\n",
    "            '통계청','국세청','관세청','조달청','특허청','통일부','보건복지부','복지부','교육부','한국은행',\n",
    "            '계획임.','예정임.','밝혔다.','발표하였다.']"
   ]
  },
  {
   "cell_type": "code",
   "execution_count": 28,
   "metadata": {
    "id": "ATEQy7bM82p3"
   },
   "outputs": [],
   "source": [
    "summary_list = df['요약'].tolist()\n",
    "\n",
    "documents_list = []\n",
    "for summary in summary_list:\n",
    "    document = []\n",
    "    for ex in excluson:\n",
    "        summary = summary.replace(ex,'')\n",
    "    for noun in tagger.nouns(summary):\n",
    "        if noun not in stop_words:\n",
    "            document.append(noun)\n",
    "    documents_list.append(document)"
   ]
  },
  {
   "cell_type": "code",
   "execution_count": 30,
   "metadata": {},
   "outputs": [
    {
     "data": {
      "text/plain": [
       "[['물가', '연동', '국고', '종목별', '연동', '계수'],\n",
       " ['제도',\n",
       "  '법규',\n",
       "  '사항',\n",
       "  '정리',\n",
       "  '책자',\n",
       "  '발간',\n",
       "  '책자',\n",
       "  '기관',\n",
       "  '정책',\n",
       "  '분야',\n",
       "  '시기',\n",
       "  '기관',\n",
       "  '구성',\n",
       "  '주요',\n",
       "  '이해',\n",
       "  '삽화',\n",
       "  '제시',\n",
       "  '청년',\n",
       "  '여성',\n",
       "  '부모',\n",
       "  '다문화가정',\n",
       "  '신혼',\n",
       "  '부부',\n",
       "  '계층',\n",
       "  '특화',\n",
       "  '정책',\n",
       "  '분야',\n",
       "  '제시',\n",
       "  '한편',\n",
       "  '사회',\n",
       "  '안전',\n",
       "  '탄소',\n",
       "  '중립',\n",
       "  '교육',\n",
       "  '지원',\n",
       "  '관련',\n",
       "  '제도',\n",
       "  '변경',\n",
       "  '다수',\n",
       "  '포함',\n",
       "  '책자',\n",
       "  '초',\n",
       "  '지방',\n",
       "  '자치',\n",
       "  '단체',\n",
       "  '공공',\n",
       "  '도서관',\n",
       "  '점자',\n",
       "  '도서관',\n",
       "  '권',\n",
       "  '배포',\n",
       "  '비치',\n",
       "  '온라인',\n",
       "  '공개',\n",
       "  '분야',\n",
       "  '주요',\n",
       "  '삽화']]"
      ]
     },
     "execution_count": 30,
     "metadata": {},
     "output_type": "execute_result"
    }
   ],
   "source": [
    "documents_list[:2]"
   ]
  },
  {
   "cell_type": "code",
   "execution_count": 31,
   "metadata": {},
   "outputs": [],
   "source": [
    "documents = [' '.join(words) for words in documents_list]"
   ]
  },
  {
   "cell_type": "code",
   "execution_count": 32,
   "metadata": {},
   "outputs": [
    {
     "data": {
      "text/plain": [
       "['물가 연동 국고 종목별 연동 계수',\n",
       " '제도 법규 사항 정리 책자 발간 책자 기관 정책 분야 시기 기관 구성 주요 이해 삽화 제시 청년 여성 부모 다문화가정 신혼 부부 계층 특화 정책 분야 제시 한편 사회 안전 탄소 중립 교육 지원 관련 제도 변경 다수 포함 책자 초 지방 자치 단체 공공 도서관 점자 도서관 권 배포 비치 온라인 공개 분야 주요 삽화']"
      ]
     },
     "execution_count": 32,
     "metadata": {},
     "output_type": "execute_result"
    }
   ],
   "source": [
    "documents[:2]"
   ]
  },
  {
   "cell_type": "code",
   "execution_count": 39,
   "metadata": {},
   "outputs": [],
   "source": [
    "vectorizer = TfidfVectorizer()\n",
    "\n",
    "X = vectorizer.fit_transform(documents)"
   ]
  },
  {
   "cell_type": "markdown",
   "metadata": {},
   "source": [
    "## lsa"
   ]
  },
  {
   "cell_type": "code",
   "execution_count": 49,
   "metadata": {},
   "outputs": [
    {
     "data": {
      "text/plain": [
       "30"
      ]
     },
     "execution_count": 49,
     "metadata": {},
     "output_type": "execute_result"
    }
   ],
   "source": [
    "svd_model = TruncatedSVD(n_components=30, algorithm='randomized', n_iter=100, random_state=122)\n",
    "svd_model.fit(X)\n",
    "len(svd_model.components_)"
   ]
  },
  {
   "cell_type": "code",
   "execution_count": 50,
   "metadata": {},
   "outputs": [
    {
     "name": "stdout",
     "output_type": "stream",
     "text": [
      "Topic 1: [('지원', 0.27294), ('사업', 0.25721), ('기업', 0.19469), ('기술', 0.1725), ('개발', 0.13122)]\n",
      "Topic 2: [('기술', 0.27699), ('사업', 0.27374), ('연구', 0.20763), ('개발', 0.2019), ('기업', 0.18924)]\n",
      "Topic 3: [('금융', 0.29629), ('대출', 0.26472), ('대비', 0.21643), ('증가', 0.20062), ('수출', 0.18637)]\n",
      "Topic 4: [('대비', 0.25099), ('증가', 0.21283), ('달러', 0.18695), ('감소', 0.18586), ('수출', 0.18538)]\n",
      "Topic 5: [('금융', 0.31184), ('기술', 0.28208), ('대출', 0.21604), ('연구', 0.20494), ('개발', 0.16803)]\n",
      "Topic 6: [('지역', 0.22646), ('연구', 0.1777), ('인구', 0.17129), ('지방', 0.15899), ('개발', 0.12751)]\n",
      "Topic 7: [('점검', 0.13099), ('경제', 0.13069), ('간담회', 0.12288), ('공급', 0.11979), ('기업', 0.1152)]\n",
      "Topic 8: [('의료', 0.47142), ('마약', 0.18012), ('창업', 0.1671), ('교육', 0.16033), ('기업', 0.1538)]\n",
      "Topic 9: [('의료', 0.26207), ('지원', 0.17826), ('대출', 0.17298), ('연구', 0.16029), ('식품', 0.15855)]\n",
      "Topic 10: [('수출', 0.40543), ('지원', 0.18598), ('의료', 0.14948), ('지역', 0.14566), ('달러', 0.11537)]\n",
      "Topic 11: [('교육', 0.3041), ('재산', 0.20622), ('지식', 0.19322), ('청년', 0.16837), ('산업', 0.15821)]\n",
      "Topic 12: [('안전', 0.20964), ('인구', 0.19106), ('대출', 0.16566), ('지역', 0.16116), ('제품', 0.15299)]\n",
      "Topic 13: [('제품', 0.23833), ('서비스', 0.22952), ('고용', 0.16678), ('일자리', 0.15589), ('청년', 0.14712)]\n",
      "Topic 14: [('마약', 0.26152), ('서비스', 0.20494), ('정보', 0.20478), ('시스템', 0.14476), ('창업', 0.13207)]\n",
      "Topic 15: [('안전', 0.21388), ('기관', 0.13762), ('관리', 0.13738), ('시설', 0.12773), ('평가', 0.11971)]\n",
      "Topic 16: [('보험', 0.27506), ('보험료', 0.14932), ('고용', 0.12987), ('조사', 0.12604), ('지역', 0.12311)]\n",
      "Topic 17: [('평가', 0.23456), ('기관', 0.21617), ('사업', 0.16235), ('거래', 0.16003), ('발행', 0.14753)]\n",
      "Topic 18: [('재산', 0.24666), ('지식', 0.18126), ('기업', 0.17396), ('전월', 0.13685), ('정보', 0.1205)]\n",
      "Topic 19: [('마약', 0.31984), ('제품', 0.23455), ('집행', 0.18044), ('재산', 0.16857), ('지식', 0.15046)]\n",
      "Topic 20: [('탄소', 0.24628), ('중립', 0.20736), ('식품', 0.15578), ('디지털', 0.15526), ('산업', 0.14174)]\n",
      "Topic 21: [('탄소', 0.20805), ('중립', 0.16848), ('주택', 0.16806), ('청년', 0.1602), ('의료', 0.1573)]\n",
      "Topic 22: [('재산', 0.26688), ('지식', 0.20192), ('보험', 0.19978), ('투자', 0.14054), ('보험료', 0.13286)]\n",
      "Topic 23: [('공급', 0.22263), ('산업', 0.18902), ('발행', 0.17088), ('증권', 0.16187), ('투자', 0.16181)]\n",
      "Topic 24: [('청년', 0.23654), ('인구', 0.2141), ('재산', 0.17454), ('지식', 0.16165), ('마약', 0.1572)]\n",
      "Topic 25: [('고용', 0.27145), ('기업', 0.18797), ('지역', 0.15936), ('산업', 0.15621), ('지정', 0.14794)]\n",
      "Topic 26: [('우주', 0.51473), ('항공', 0.30647), ('인구', 0.15371), ('연구', 0.14219), ('선박', 0.13803)]\n",
      "Topic 27: [('주택', 0.29125), ('조사', 0.15285), ('주거', 0.12445), ('공급', 0.12226), ('통계', 0.12139)]\n",
      "Topic 28: [('보험', 0.23143), ('식품', 0.17997), ('할부', 0.16957), ('선불', 0.15643), ('대출', 0.14013)]\n",
      "Topic 29: [('청년', 0.21359), ('보험', 0.18995), ('탄소', 0.17398), ('발행', 0.16841), ('증권', 0.14906)]\n",
      "Topic 30: [('우주', 0.19204), ('발행', 0.19173), ('기술', 0.18947), ('증권', 0.16248), ('식품', 0.13379)]\n"
     ]
    }
   ],
   "source": [
    "# 단어 집합. 1,000개의 단어가 저장됨.\n",
    "terms = vectorizer.get_feature_names_out()\n",
    "\n",
    "def get_topics(components, feature_names, n=5):\n",
    "    for idx, topic in enumerate(components):\n",
    "        print(\"Topic %d:\" % (idx+1), [(feature_names[i], topic[i].round(5)) for i in topic.argsort()[:-n - 1:-1]])\n",
    "get_topics(svd_model.components_,terms)"
   ]
  },
  {
   "cell_type": "markdown",
   "metadata": {},
   "source": [
    "## lda"
   ]
  },
  {
   "cell_type": "code",
   "execution_count": 53,
   "metadata": {},
   "outputs": [
    {
     "ename": "AttributeError",
     "evalue": "module 'gensim.models' has no attribute 'wrappers'",
     "output_type": "error",
     "traceback": [
      "\u001b[1;31m---------------------------------------------------------------------------\u001b[0m",
      "\u001b[1;31mAttributeError\u001b[0m                            Traceback (most recent call last)",
      "Cell \u001b[1;32mIn[53], line 7\u001b[0m\n\u001b[0;32m      4\u001b[0m corpus\u001b[38;5;241m=\u001b[39m[id2word\u001b[38;5;241m.\u001b[39mdoc2bow(text) \u001b[38;5;28;01mfor\u001b[39;00m text \u001b[38;5;129;01min\u001b[39;00m texts]\n\u001b[0;32m      6\u001b[0m mallet_path \u001b[38;5;241m=\u001b[39m \u001b[38;5;124m'\u001b[39m\u001b[38;5;124mmallet-2.0.8/bin/mallet\u001b[39m\u001b[38;5;124m'\u001b[39m \n\u001b[1;32m----> 7\u001b[0m ldamallet \u001b[38;5;241m=\u001b[39m \u001b[43mgensim\u001b[49m\u001b[38;5;241;43m.\u001b[39;49m\u001b[43mmodels\u001b[49m\u001b[38;5;241;43m.\u001b[39;49m\u001b[43mwrappers\u001b[49m\u001b[38;5;241m.\u001b[39mLdaMallet(mallet_path, corpus\u001b[38;5;241m=\u001b[39mcorpus, num_topics\u001b[38;5;241m=\u001b[39m\u001b[38;5;241m10\u001b[39m, id2word\u001b[38;5;241m=\u001b[39mid2word)\n",
      "\u001b[1;31mAttributeError\u001b[0m: module 'gensim.models' has no attribute 'wrappers'"
     ]
    }
   ],
   "source": [
    "id2word=corpora.Dictionary(documents_list)\n",
    "id2word.filter_extremes(no_below = 20) #20회 이하로 등장한 단어는 삭제\n",
    "texts = documents_list\n",
    "corpus=[id2word.doc2bow(text) for text in texts]\n",
    "\n",
    "mallet_path = 'mallet-2.0.8/bin/mallet' \n",
    "ldamallet = gensim.models..LdaMallet(mallet_path, corpus=corpus, num_topics=10, id2word=id2word)"
   ]
  },
  {
   "cell_type": "code",
   "execution_count": null,
   "metadata": {},
   "outputs": [],
   "source": []
  }
 ],
 "metadata": {
  "colab": {
   "provenance": []
  },
  "kernelspec": {
   "display_name": "Python 3 (ipykernel)",
   "language": "python",
   "name": "python3"
  },
  "language_info": {
   "codemirror_mode": {
    "name": "ipython",
    "version": 3
   },
   "file_extension": ".py",
   "mimetype": "text/x-python",
   "name": "python",
   "nbconvert_exporter": "python",
   "pygments_lexer": "ipython3",
   "version": "3.8.0"
  }
 },
 "nbformat": 4,
 "nbformat_minor": 4
}
